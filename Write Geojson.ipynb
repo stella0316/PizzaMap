{
 "cells": [
  {
   "cell_type": "code",
   "execution_count": 27,
   "metadata": {
    "collapsed": true
   },
   "outputs": [],
   "source": [
    "import pandas as pd\n",
    "import os\n",
    "import json"
   ]
  },
  {
   "cell_type": "code",
   "execution_count": 52,
   "metadata": {
    "collapsed": true
   },
   "outputs": [],
   "source": [
    "#create a function to generate geojson data from dataframe\n",
    "def df_to_geojson(df, properties, lat='latitude', lon='longitude'):\n",
    "    geojson = {'type':'FeatureCollection', 'features':[]}\n",
    "    for _, row in df.iterrows():\n",
    "        feature = {'type':'Feature',\n",
    "                   'properties':{},\n",
    "                   'geometry':{'type':'Point',\n",
    "                               'coordinates':[]}}\n",
    "        feature['geometry']['coordinates'] = [row[lon],row[lat]]\n",
    "        for prop in properties:\n",
    "            feature['properties'][prop] = row[prop]\n",
    "        geojson['features'].append(feature)\n",
    "    return geojson"
   ]
  },
  {
   "cell_type": "code",
   "execution_count": 12,
   "metadata": {
    "collapsed": true
   },
   "outputs": [],
   "source": [
    "\n",
    "\n"
   ]
  },
  {
   "cell_type": "code",
   "execution_count": 13,
   "metadata": {
    "collapsed": true
   },
   "outputs": [],
   "source": [
    "#set up feature columns\n",
    "cols = ['name', 'price_level', 'rating']\n",
    "geojson = df_to_geojson(df, cols)\n",
    "#write geojson file \n",
    "with open('data.geojson', 'w') as outfile:  \n",
    "    json.dump(geojson, outfile)"
   ]
  },
  {
   "cell_type": "code",
   "execution_count": 7,
   "metadata": {
    "collapsed": true
   },
   "outputs": [],
   "source": [
    "import plotly \n",
    "import plotly.plotly as py\n",
    "from plotly.graph_objs import *\n",
    "import pandas as pd\n",
    "import os\n",
    "\n",
    "\n",
    "plotly.tools.set_credentials_file(username='StellaSun', api_key='gmyMYPK8gH2mJVr1t7Fj')\n",
    "mapbox_access_token = 'pk.eyJ1Ijoic3N1bjEwIiwiYSI6ImNqYThqNmZjMTAwdDEycXFybTBxNGUxaWcifQ.BL82FAy1_HdKC5DCNrieCg'"
   ]
  },
  {
   "cell_type": "code",
   "execution_count": 13,
   "metadata": {
    "collapsed": true
   },
   "outputs": [],
   "source": [
    "#read data\n",
    "import pandas as pd\n",
    "df = pd.read_csv(r'pizza_locations_google.csv')\n",
    "for col in df.columns:\n",
    "    df[col] = df[col].astype(str)\n",
    "    \n",
    "lat = df.lat\n",
    "lng = df.lng\n",
    "df['text'] = df['name'] + '<br>' +\\\n",
    "       'Price Range:' + df['price_level'] + '<br>' +\\\n",
    "       'Rating:' + df['rating']"
   ]
  },
  {
   "cell_type": "code",
   "execution_count": 23,
   "metadata": {},
   "outputs": [
    {
     "data": {
      "text/html": [
       "<iframe id=\"igraph\" scrolling=\"no\" style=\"border:none;\" seamless=\"seamless\" src=\"https://plot.ly/~StellaSun/2.embed\" height=\"525px\" width=\"100%\"></iframe>"
      ],
      "text/plain": [
       "<plotly.tools.PlotlyDisplay object>"
      ]
     },
     "execution_count": 23,
     "metadata": {},
     "output_type": "execute_result"
    }
   ],
   "source": [
    "data = Data([\n",
    "    Scattermapbox(\n",
    "        lat=lat,\n",
    "        lon=lng,\n",
    "        mode='markers',\n",
    "        marker=Marker(\n",
    "            size=6,\n",
    "            color='rgb(84,39,143)',\n",
    "            opacity=0.7,\n",
    "        ),\n",
    "        text=df.text,\n",
    "        hoverinfo='text'\n",
    "    )\n",
    "])\n",
    "\n",
    "#set up manhattan view\n",
    "layout = Layout(\n",
    "    autosize=True,\n",
    "    hovermode='closest',\n",
    "    mapbox=dict(\n",
    "        accesstoken=mapbox_access_token,\n",
    "        bearing=0,\n",
    "        center=dict(\n",
    "            lat=40.75,\n",
    "            lon=-73.9\n",
    "        ),\n",
    "        pitch=0,\n",
    "        zoom=10\n",
    "    ),\n",
    ")\n",
    "\n",
    "fig = dict(data=data, layout=layout)\n",
    "py.iplot(fig, filename='Manhatten')"
   ]
  },
  {
   "cell_type": "code",
   "execution_count": 26,
   "metadata": {},
   "outputs": [
    {
     "data": {
      "text/html": [
       "<iframe id=\"igraph\" scrolling=\"no\" style=\"border:none;\" seamless=\"seamless\" src=\"https://plot.ly/~StellaSun/4.embed\" height=\"600px\" width=\"100%\"></iframe>"
      ],
      "text/plain": [
       "<plotly.tools.PlotlyDisplay object>"
      ]
     },
     "execution_count": 26,
     "metadata": {},
     "output_type": "execute_result"
    }
   ],
   "source": [
    "import plotly.plotly as py\n",
    "import plotly.graph_objs as graph_objs\n",
    "\n",
    "mapbox_access_token = 'pk.eyJ1Ijoic3N1bjEwIiwiYSI6ImNqYThqNmZjMTAwdDEycXFybTBxNGUxaWcifQ.BL82FAy1_HdKC5DCNrieCg'\n",
    "\n",
    "data = graph_objs.Data([\n",
    "    graph_objs.Scattermapbox(\n",
    "        lat=['45.5017'],\n",
    "        lon=['-73.5673'],\n",
    "        mode='markers',\n",
    "    )\n",
    "])\n",
    "layout = graph_objs.Layout(\n",
    "    height=600,\n",
    "    autosize=True,\n",
    "    hovermode='closest',\n",
    "    mapbox=dict(\n",
    "        layers=[\n",
    "            dict(\n",
    "                sourcetype = 'geojson',\n",
    "                source = 'https://raw.githubusercontent.com/plotly/datasets/master/florida-red-data.json',\n",
    "                type = 'line',\n",
    "                color = 'rgba(163,22,19,0.8)'\n",
    "            )\n",
    "        ],\n",
    "        accesstoken=mapbox_access_token,\n",
    "        bearing=0,\n",
    "        center=dict(\n",
    "            lat=27.8,\n",
    "            lon=-83\n",
    "        ),\n",
    "        pitch=0,\n",
    "        zoom=5.2,\n",
    "        style='light'\n",
    "    ),\n",
    ")\n",
    "\n",
    "fig = dict(data=data, layout=layout)\n",
    "py.iplot(fig, filename='county-level-choropleths-python')"
   ]
  },
  {
   "cell_type": "code",
   "execution_count": 48,
   "metadata": {},
   "outputs": [],
   "source": [
    "dir = os.getcwd()+'/data'\n",
    "ManhattanLoc = pd.read_csv(dir+'/ManhattanLotLocs.csv')\n",
    "ManhattanLoc = ManhattanLoc.drop(['Unnamed: 0','Block','Lot','Address'],axis=1)"
   ]
  },
  {
   "cell_type": "code",
   "execution_count": 61,
   "metadata": {},
   "outputs": [],
   "source": [
    "cols = ['lot_id']\n",
    "geojson = df_to_geojson(ManhattanLoc, cols, lat='latitude', lon='longitude')\n",
    "with open(dir+'/ManhattanLoc.json', 'w') as f:\n",
    "    f.write(json.dumps(geojson))"
   ]
  },
  {
   "cell_type": "code",
   "execution_count": null,
   "metadata": {},
   "outputs": [],
   "source": []
  },
  {
   "cell_type": "code",
   "execution_count": null,
   "metadata": {
    "collapsed": true
   },
   "outputs": [],
   "source": []
  }
 ],
 "metadata": {
  "kernelspec": {
   "display_name": "Python 3",
   "language": "python",
   "name": "python3"
  },
  "language_info": {
   "codemirror_mode": {
    "name": "ipython",
    "version": 3
   },
   "file_extension": ".py",
   "mimetype": "text/x-python",
   "name": "python",
   "nbconvert_exporter": "python",
   "pygments_lexer": "ipython3",
   "version": "3.6.0"
  }
 },
 "nbformat": 4,
 "nbformat_minor": 2
}
