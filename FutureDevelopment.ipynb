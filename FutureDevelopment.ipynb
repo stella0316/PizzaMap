{
 "cells": [
  {
   "cell_type": "code",
   "execution_count": 6,
   "metadata": {},
   "outputs": [],
   "source": [
    "import requests\n",
    "import json\n",
    "import plotly \n",
    "import plotly.plotly as py\n",
    "from plotly.graph_objs import *\n",
    "\n",
    "#set up plotly credentials and mapbox access_token in order to connect plotly with mapbox\n",
    "plotly.tools.set_credentials_file(username='StellaSun', api_key='gmyMYPK8gH2mJVr1t7Fj')\n",
    "mapbox_access_token = 'pk.eyJ1Ijoic3N1bjEwIiwiYSI6ImNqYThqNmZjMTAwdDEycXFybTBxNGUxaWcifQ.BL82FAy1_HdKC5DCNrieCg'\n"
   ]
  },
  {
   "cell_type": "code",
   "execution_count": 10,
   "metadata": {},
   "outputs": [],
   "source": [
    "#get current location of the user\n",
    "send_url = 'http://freegeoip.net/json/'\n",
    "r = requests.get(send_url)\n",
    "j = json.loads(r.text)\n",
    "lat = j['latitude']\n",
    "lon = j['longitude']"
   ]
  },
  {
   "cell_type": "code",
   "execution_count": null,
   "metadata": {},
   "outputs": [],
   "source": []
  },
  {
   "cell_type": "code",
   "execution_count": 12,
   "metadata": {
    "scrolled": false
   },
   "outputs": [
    {
     "data": {
      "text/html": [
       "<iframe id=\"igraph\" scrolling=\"no\" style=\"border:none;\" seamless=\"seamless\" src=\"https://plot.ly/~StellaSun/10.embed\" height=\"525px\" width=\"100%\"></iframe>"
      ],
      "text/plain": [
       "<plotly.tools.PlotlyDisplay object>"
      ]
     },
     "execution_count": 12,
     "metadata": {},
     "output_type": "execute_result"
    }
   ],
   "source": [
    "data = Data([\n",
    "    Scattermapbox(\n",
    "        lat=[lat],\n",
    "        lon=[lon],\n",
    "        mode='markers',\n",
    "        marker=Marker(\n",
    "            size=12,\n",
    "            opacity=0.5,\n",
    "            \n",
    "        ),\n",
    "    )\n",
    "])\n",
    "\n",
    "layout = Layout(\n",
    "    autosize=True,\n",
    "    hovermode='closest',\n",
    "    mapbox=dict(\n",
    "        accesstoken=mapbox_access_token,\n",
    "        bearing=0,\n",
    "        center=dict(\n",
    "            lat=lat,\n",
    "            lon=lon\n",
    "        ),\n",
    "        pitch=0,\n",
    "        zoom=12,\n",
    "        style=\"streets\"\n",
    "    ),\n",
    ")\n",
    "\n",
    "fig = dict(data=data, layout=layout)\n",
    "py.iplot(fig, filename='Current Location')"
   ]
  },
  {
   "cell_type": "code",
   "execution_count": null,
   "metadata": {
    "collapsed": true
   },
   "outputs": [],
   "source": []
  }
 ],
 "metadata": {
  "kernelspec": {
   "display_name": "Python 3",
   "language": "python",
   "name": "python3"
  },
  "language_info": {
   "codemirror_mode": {
    "name": "ipython",
    "version": 3
   },
   "file_extension": ".py",
   "mimetype": "text/x-python",
   "name": "python",
   "nbconvert_exporter": "python",
   "pygments_lexer": "ipython3",
   "version": "3.6.0"
  }
 },
 "nbformat": 4,
 "nbformat_minor": 2
}
