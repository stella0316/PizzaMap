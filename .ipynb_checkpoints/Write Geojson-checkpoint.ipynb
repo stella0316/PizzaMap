{
 "cells": [
  {
   "cell_type": "code",
   "execution_count": 1,
   "metadata": {
    "collapsed": true
   },
   "outputs": [],
   "source": [
    "import pandas as pd\n",
    "import os\n",
    "import json"
   ]
  },
  {
   "cell_type": "code",
   "execution_count": 2,
   "metadata": {
    "collapsed": true
   },
   "outputs": [],
   "source": [
    "#create a function to generate geojson data from dataframe\n",
    "def df_to_geojson(df, properties, lat='latitude', lon='longitude'):\n",
    "    geojson = {'type':'FeatureCollection', 'features':[]}\n",
    "    for _, row in df.iterrows():\n",
    "        feature = {'type':'Feature',\n",
    "                   'properties':{},\n",
    "                   'geometry':{'type':'Point',\n",
    "                               'coordinates':[]}}\n",
    "        feature['geometry']['coordinates'] = [row[lon],row[lat]]\n",
    "        for prop in properties:\n",
    "            feature['properties'][prop] = row[prop]\n",
    "        geojson['features'].append(feature)\n",
    "    return geojson"
   ]
  },
  {
   "cell_type": "code",
   "execution_count": 12,
   "metadata": {
    "collapsed": true
   },
   "outputs": [],
   "source": [
    "\n",
    "\n"
   ]
  },
  {
   "cell_type": "code",
   "execution_count": 13,
   "metadata": {
    "collapsed": true
   },
   "outputs": [],
   "source": [
    "#set up feature columns\n",
    "cols = ['name', 'price_level', 'rating']\n",
    "geojson = df_to_geojson(df, cols)\n",
    "#write geojson file \n",
    "with open('data.geojson', 'w') as outfile:  \n",
    "    json.dump(geojson, outfile)"
   ]
  },
  {
   "cell_type": "code",
   "execution_count": 7,
   "metadata": {
    "collapsed": true
   },
   "outputs": [],
   "source": [
    "import plotly \n",
    "import plotly.plotly as py\n",
    "from plotly.graph_objs import *\n",
    "import pandas as pd\n",
    "import os\n",
    "\n",
    "\n",
    "plotly.tools.set_credentials_file(username='StellaSun', api_key='gmyMYPK8gH2mJVr1t7Fj')\n",
    "mapbox_access_token = 'pk.eyJ1Ijoic3N1bjEwIiwiYSI6ImNqYThqNmZjMTAwdDEycXFybTBxNGUxaWcifQ.BL82FAy1_HdKC5DCNrieCg'"
   ]
  },
  {
   "cell_type": "code",
   "execution_count": 13,
   "metadata": {},
   "outputs": [],
   "source": [
    "#read data\n",
    "import pandas as pd\n",
    "df = pd.read_csv(r'pizza_locations_google.csv')\n",
    "for col in df.columns:\n",
    "    df[col] = df[col].astype(str)\n",
    "    \n",
    "lat = df.lat\n",
    "lng = df.lng\n",
    "df['text'] = df['name'] + '<br>' +\\\n",
    "       'Price Range:' + df['price_level'] + '<br>' +\\\n",
    "       'Rating:' + df['rating']"
   ]
  },
  {
   "cell_type": "code",
   "execution_count": 23,
   "metadata": {},
   "outputs": [
    {
     "data": {
      "text/html": [
       "<iframe id=\"igraph\" scrolling=\"no\" style=\"border:none;\" seamless=\"seamless\" src=\"https://plot.ly/~StellaSun/2.embed\" height=\"525px\" width=\"100%\"></iframe>"
      ],
      "text/plain": [
       "<plotly.tools.PlotlyDisplay object>"
      ]
     },
     "execution_count": 23,
     "metadata": {},
     "output_type": "execute_result"
    }
   ],
   "source": [
    "data = Data([\n",
    "    Scattermapbox(\n",
    "        lat=lat,\n",
    "        lon=lng,\n",
    "        mode='markers',\n",
    "        marker=Marker(\n",
    "            size=6,\n",
    "            color='rgb(84,39,143)',\n",
    "            opacity=0.7,\n",
    "        ),\n",
    "        text=df.text,\n",
    "        hoverinfo='text'\n",
    "    )\n",
    "])\n",
    "\n",
    "#set up manhattan view\n",
    "layout = Layout(\n",
    "    autosize=True,\n",
    "    hovermode='closest',\n",
    "    mapbox=dict(\n",
    "        accesstoken=mapbox_access_token,\n",
    "        bearing=0,\n",
    "        center=dict(\n",
    "            lat=40.75,\n",
    "            lon=-73.9\n",
    "        ),\n",
    "        pitch=0,\n",
    "        zoom=10\n",
    "    ),\n",
    ")\n",
    "\n",
    "fig = dict(data=data, layout=layout)\n",
    "py.iplot(fig, filename='Manhatten')"
   ]
  },
  {
   "cell_type": "code",
   "execution_count": 26,
   "metadata": {},
   "outputs": [
    {
     "data": {
      "text/html": [
       "<iframe id=\"igraph\" scrolling=\"no\" style=\"border:none;\" seamless=\"seamless\" src=\"https://plot.ly/~StellaSun/4.embed\" height=\"600px\" width=\"100%\"></iframe>"
      ],
      "text/plain": [
       "<plotly.tools.PlotlyDisplay object>"
      ]
     },
     "execution_count": 26,
     "metadata": {},
     "output_type": "execute_result"
    }
   ],
   "source": [
    "import plotly.plotly as py\n",
    "import plotly.graph_objs as graph_objs\n",
    "\n",
    "mapbox_access_token = 'pk.eyJ1Ijoic3N1bjEwIiwiYSI6ImNqYThqNmZjMTAwdDEycXFybTBxNGUxaWcifQ.BL82FAy1_HdKC5DCNrieCg'\n",
    "\n",
    "data = graph_objs.Data([\n",
    "    graph_objs.Scattermapbox(\n",
    "        lat=['45.5017'],\n",
    "        lon=['-73.5673'],\n",
    "        mode='markers',\n",
    "    )\n",
    "])\n",
    "layout = graph_objs.Layout(\n",
    "    height=600,\n",
    "    autosize=True,\n",
    "    hovermode='closest',\n",
    "    mapbox=dict(\n",
    "        layers=[\n",
    "            dict(\n",
    "                sourcetype = 'geojson',\n",
    "                source = 'https://raw.githubusercontent.com/plotly/datasets/master/florida-red-data.json',\n",
    "                type = 'line',\n",
    "                color = 'rgba(163,22,19,0.8)'\n",
    "            )\n",
    "        ],\n",
    "        accesstoken=mapbox_access_token,\n",
    "        bearing=0,\n",
    "        center=dict(\n",
    "            lat=27.8,\n",
    "            lon=-83\n",
    "        ),\n",
    "        pitch=0,\n",
    "        zoom=5.2,\n",
    "        style='light'\n",
    "    ),\n",
    ")\n",
    "\n",
    "fig = dict(data=data, layout=layout)\n",
    "py.iplot(fig, filename='county-level-choropleths-python')"
   ]
  },
  {
   "cell_type": "code",
   "execution_count": 6,
   "metadata": {},
   "outputs": [
    {
     "data": {
      "text/html": [
       "<div>\n",
       "<table border=\"1\" class=\"dataframe\">\n",
       "  <thead>\n",
       "    <tr style=\"text-align: right;\">\n",
       "      <th></th>\n",
       "      <th>Unnamed: 0</th>\n",
       "      <th>1000_1</th>\n",
       "      <th>1000_11</th>\n",
       "      <th>1000_29</th>\n",
       "      <th>1000_49</th>\n",
       "      <th>1000_53</th>\n",
       "      <th>1000_56</th>\n",
       "      <th>1000_57</th>\n",
       "      <th>1000_58</th>\n",
       "      <th>1000_59</th>\n",
       "      <th>...</th>\n",
       "      <th>999_54</th>\n",
       "      <th>999_61</th>\n",
       "      <th>999_62</th>\n",
       "      <th>999_65</th>\n",
       "      <th>999_8</th>\n",
       "      <th>999_9</th>\n",
       "      <th>9_1</th>\n",
       "      <th>9_14</th>\n",
       "      <th>9_29</th>\n",
       "      <th>9_7</th>\n",
       "    </tr>\n",
       "  </thead>\n",
       "  <tbody>\n",
       "    <tr>\n",
       "      <th>0</th>\n",
       "      <td>0</td>\n",
       "      <td>5.299460</td>\n",
       "      <td>5.293918</td>\n",
       "      <td>5.277661</td>\n",
       "      <td>5.271690</td>\n",
       "      <td>5.273765</td>\n",
       "      <td>5.275159</td>\n",
       "      <td>5.275649</td>\n",
       "      <td>5.276313</td>\n",
       "      <td>5.276938</td>\n",
       "      <td>...</td>\n",
       "      <td>5.326776</td>\n",
       "      <td>5.325743</td>\n",
       "      <td>5.330389</td>\n",
       "      <td>5.340873</td>\n",
       "      <td>5.349340</td>\n",
       "      <td>5.348542</td>\n",
       "      <td>9.682520</td>\n",
       "      <td>9.693413</td>\n",
       "      <td>9.660969</td>\n",
       "      <td>9.704042</td>\n",
       "    </tr>\n",
       "    <tr>\n",
       "      <th>1</th>\n",
       "      <td>1</td>\n",
       "      <td>7.246445</td>\n",
       "      <td>7.241926</td>\n",
       "      <td>7.226799</td>\n",
       "      <td>7.219958</td>\n",
       "      <td>7.221667</td>\n",
       "      <td>7.222814</td>\n",
       "      <td>7.223189</td>\n",
       "      <td>7.223737</td>\n",
       "      <td>7.224239</td>\n",
       "      <td>...</td>\n",
       "      <td>7.274483</td>\n",
       "      <td>7.272458</td>\n",
       "      <td>7.277518</td>\n",
       "      <td>7.287545</td>\n",
       "      <td>7.296723</td>\n",
       "      <td>7.296081</td>\n",
       "      <td>11.629613</td>\n",
       "      <td>11.640088</td>\n",
       "      <td>11.607589</td>\n",
       "      <td>11.650941</td>\n",
       "    </tr>\n",
       "    <tr>\n",
       "      <th>2</th>\n",
       "      <td>2</td>\n",
       "      <td>5.770518</td>\n",
       "      <td>5.766285</td>\n",
       "      <td>5.751682</td>\n",
       "      <td>5.744410</td>\n",
       "      <td>5.745986</td>\n",
       "      <td>5.747054</td>\n",
       "      <td>5.747396</td>\n",
       "      <td>5.747912</td>\n",
       "      <td>5.748382</td>\n",
       "      <td>...</td>\n",
       "      <td>5.798748</td>\n",
       "      <td>5.796480</td>\n",
       "      <td>5.801628</td>\n",
       "      <td>5.811562</td>\n",
       "      <td>5.820899</td>\n",
       "      <td>5.820300</td>\n",
       "      <td>10.154915</td>\n",
       "      <td>10.165271</td>\n",
       "      <td>10.132746</td>\n",
       "      <td>10.176191</td>\n",
       "    </tr>\n",
       "    <tr>\n",
       "      <th>3</th>\n",
       "      <td>3</td>\n",
       "      <td>4.071809</td>\n",
       "      <td>4.062988</td>\n",
       "      <td>4.042680</td>\n",
       "      <td>4.039936</td>\n",
       "      <td>4.043255</td>\n",
       "      <td>4.045461</td>\n",
       "      <td>4.046325</td>\n",
       "      <td>4.047358</td>\n",
       "      <td>4.048374</td>\n",
       "      <td>...</td>\n",
       "      <td>4.096748</td>\n",
       "      <td>4.098829</td>\n",
       "      <td>4.102194</td>\n",
       "      <td>4.114041</td>\n",
       "      <td>4.120289</td>\n",
       "      <td>4.118993</td>\n",
       "      <td>8.446168</td>\n",
       "      <td>8.458180</td>\n",
       "      <td>8.425927</td>\n",
       "      <td>8.468192</td>\n",
       "    </tr>\n",
       "    <tr>\n",
       "      <th>4</th>\n",
       "      <td>4</td>\n",
       "      <td>4.929750</td>\n",
       "      <td>4.916188</td>\n",
       "      <td>4.889567</td>\n",
       "      <td>4.892043</td>\n",
       "      <td>4.897235</td>\n",
       "      <td>4.900637</td>\n",
       "      <td>4.902044</td>\n",
       "      <td>4.903607</td>\n",
       "      <td>4.905181</td>\n",
       "      <td>...</td>\n",
       "      <td>4.951058</td>\n",
       "      <td>4.957610</td>\n",
       "      <td>4.959142</td>\n",
       "      <td>4.972828</td>\n",
       "      <td>4.975870</td>\n",
       "      <td>4.973851</td>\n",
       "      <td>9.271340</td>\n",
       "      <td>9.285368</td>\n",
       "      <td>9.253544</td>\n",
       "      <td>9.294232</td>\n",
       "    </tr>\n",
       "  </tbody>\n",
       "</table>\n",
       "<p>5 rows × 42397 columns</p>\n",
       "</div>"
      ],
      "text/plain": [
       "   Unnamed: 0    1000_1   1000_11   1000_29   1000_49   1000_53   1000_56  \\\n",
       "0           0  5.299460  5.293918  5.277661  5.271690  5.273765  5.275159   \n",
       "1           1  7.246445  7.241926  7.226799  7.219958  7.221667  7.222814   \n",
       "2           2  5.770518  5.766285  5.751682  5.744410  5.745986  5.747054   \n",
       "3           3  4.071809  4.062988  4.042680  4.039936  4.043255  4.045461   \n",
       "4           4  4.929750  4.916188  4.889567  4.892043  4.897235  4.900637   \n",
       "\n",
       "    1000_57   1000_58   1000_59    ...        999_54    999_61    999_62  \\\n",
       "0  5.275649  5.276313  5.276938    ...      5.326776  5.325743  5.330389   \n",
       "1  7.223189  7.223737  7.224239    ...      7.274483  7.272458  7.277518   \n",
       "2  5.747396  5.747912  5.748382    ...      5.798748  5.796480  5.801628   \n",
       "3  4.046325  4.047358  4.048374    ...      4.096748  4.098829  4.102194   \n",
       "4  4.902044  4.903607  4.905181    ...      4.951058  4.957610  4.959142   \n",
       "\n",
       "     999_65     999_8     999_9        9_1       9_14       9_29        9_7  \n",
       "0  5.340873  5.349340  5.348542   9.682520   9.693413   9.660969   9.704042  \n",
       "1  7.287545  7.296723  7.296081  11.629613  11.640088  11.607589  11.650941  \n",
       "2  5.811562  5.820899  5.820300  10.154915  10.165271  10.132746  10.176191  \n",
       "3  4.114041  4.120289  4.118993   8.446168   8.458180   8.425927   8.468192  \n",
       "4  4.972828  4.975870  4.973851   9.271340   9.285368   9.253544   9.294232  \n",
       "\n",
       "[5 rows x 42397 columns]"
      ]
     },
     "execution_count": 6,
     "metadata": {},
     "output_type": "execute_result"
    }
   ],
   "source": []
  },
  {
   "cell_type": "code",
   "execution_count": null,
   "metadata": {
    "collapsed": true
   },
   "outputs": [],
   "source": []
  }
 ],
 "metadata": {
  "kernelspec": {
   "display_name": "Python 3",
   "language": "python",
   "name": "python3"
  },
  "language_info": {
   "codemirror_mode": {
    "name": "ipython",
    "version": 3
   },
   "file_extension": ".py",
   "mimetype": "text/x-python",
   "name": "python",
   "nbconvert_exporter": "python",
   "pygments_lexer": "ipython3",
   "version": "3.6.0"
  }
 },
 "nbformat": 4,
 "nbformat_minor": 2
}
