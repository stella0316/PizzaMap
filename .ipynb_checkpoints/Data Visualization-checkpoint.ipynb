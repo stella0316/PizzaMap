{
 "cells": [
  {
   "cell_type": "code",
   "execution_count": 1,
   "metadata": {
    "collapsed": true
   },
   "outputs": [],
   "source": [
    "import pandas as pd\n",
    "import os\n",
    "import json\n",
    "import plotly \n",
    "import plotly.plotly as py\n",
    "from plotly.graph_objs import *\n",
    "import numpy as np"
   ]
  },
  {
   "cell_type": "code",
   "execution_count": 2,
   "metadata": {
    "collapsed": true
   },
   "outputs": [],
   "source": [
    "#set data dir to read data files\n",
    "dir = os.getcwd()+'/data'\n",
    "ManhattanLoc = pd.read_csv(dir+'/ManhattanLotLocs.csv')\n",
    "ManhattanLoc = ManhattanLoc.drop(['Unnamed: 0','Block','Lot','Address'],axis=1)"
   ]
  },
  {
   "cell_type": "code",
   "execution_count": 5,
   "metadata": {
    "collapsed": true
   },
   "outputs": [],
   "source": [
    "#set up plotly credentials and mapbox access_token in order to connect plotly with mapbox\n",
    "plotly.tools.set_credentials_file(username='StellaSun', api_key='gmyMYPK8gH2mJVr1t7Fj')\n",
    "mapbox_access_token = 'pk.eyJ1Ijoic3N1bjEwIiwiYSI6ImNqYThqNmZjMTAwdDEycXFybTBxNGUxaWcifQ.BL82FAy1_HdKC5DCNrieCg'"
   ]
  },
  {
   "cell_type": "code",
   "execution_count": 6,
   "metadata": {
    "collapsed": true
   },
   "outputs": [],
   "source": [
    "#read location data\n",
    "df = pd.read_csv(dir + '/pizza_locations_google.csv')\n",
    "for col in df.columns:\n",
    "    df[col] = df[col].astype(str)\n",
    "    \n",
    "lat = df.lat\n",
    "lng = df.lng\n",
    "df['text'] = df['name'] + '<br>' +\\\n",
    "       'Price Range:' + df['price_level'] + '<br>' +\\\n",
    "       'Rating:' + df['rating']"
   ]
  },
  {
   "cell_type": "code",
   "execution_count": 26,
   "metadata": {},
   "outputs": [
    {
     "data": {
      "text/html": [
       "<iframe id=\"igraph\" scrolling=\"no\" style=\"border:none;\" seamless=\"seamless\" src=\"https://plot.ly/~StellaSun/2.embed\" height=\"525px\" width=\"100%\"></iframe>"
      ],
      "text/plain": [
       "<plotly.tools.PlotlyDisplay object>"
      ]
     },
     "execution_count": 26,
     "metadata": {},
     "output_type": "execute_result"
    }
   ],
   "source": [
    "#make first plot to show individual pizza store location with some information\n",
    "data = Data([\n",
    "    Scattermapbox(\n",
    "        lat=lat,\n",
    "        lon=lng,\n",
    "        mode='markers',\n",
    "        marker=Marker(\n",
    "            size=6,\n",
    "            color='rgb(84,39,143)',\n",
    "            opacity=0.7,\n",
    "        ),\n",
    "        text=df.text,\n",
    "        hoverinfo='text',\n",
    "        hoverlabel=dict(\n",
    "            bgcolor='rgb(255,255,255)',\n",
    "            font=dict(\n",
    "            family='Times New Roman',\n",
    "            color = 'rgb(84,39,143)')\n",
    "            )\n",
    "    )\n",
    "])\n",
    "\n",
    "#set up manhattan view\n",
    "layout = Layout(\n",
    "    autosize=True,\n",
    "    hovermode='closest',\n",
    "    mapbox=dict(\n",
    "        accesstoken=mapbox_access_token,\n",
    "        bearing=0,\n",
    "        center=dict(\n",
    "            lat=40.75,\n",
    "            lon=-73.9\n",
    "        ),\n",
    "        pitch=0,\n",
    "        zoom=10\n",
    "    ),\n",
    ")\n",
    "\n",
    "fig = dict(data=data, layout=layout)\n",
    "py.iplot(fig, filename='Manhatten')"
   ]
  },
  {
   "cell_type": "code",
   "execution_count": 8,
   "metadata": {
    "collapsed": true
   },
   "outputs": [],
   "source": [
    "#in order to make a choropleth map, we download the geojson data to show zipcode \n",
    "data = json.load(open(dir+'/Json/Manhattan ZipCode.geojson'))\n",
    "#read local file that contains distance of pizza stores within all manhattan zipcodes\n"
   ]
  },
  {
   "cell_type": "code",
   "execution_count": 9,
   "metadata": {
    "collapsed": true
   },
   "outputs": [],
   "source": [
    "zipcode = []\n",
    "zipcode_boudary = dict()\n",
    "#filter the geojson data that only has manhattan zipcode\n",
    "for i in data['features']:\n",
    "    if i['properties']['borough'] == 'Manhattan':\n",
    "            zipcode.append(i['properties']['postalCode'])\n",
    "            zipcode_boudary[i['properties']['postalCode']] = i['geometry']"
   ]
  },
  {
   "cell_type": "code",
   "execution_count": 10,
   "metadata": {
    "collapsed": true
   },
   "outputs": [],
   "source": [
    "\n",
    "distance = np.random.rand(112)\n",
    "formattedList = [\"%.1f\" % member for member in distance]\n",
    "test = dict(zip(zipcode,formattedList))"
   ]
  },
  {
   "cell_type": "code",
   "execution_count": 11,
   "metadata": {
    "collapsed": true
   },
   "outputs": [],
   "source": [
    "#Generate new geojson data with distance range\n",
    "for i in zipcode:\n",
    "    name = 'data_'+ i\n",
    "    result = {\"type\": \"FeatureCollection\"}\n",
    "    featurelist = list()\n",
    "    feat = dict()\n",
    "    feat['type'] = \"Feature\"\n",
    "    feat['properties']={'postcode':i}\n",
    "    feat['geometry'] = zipcode_boudary[i]\n",
    "    featurelist.append(feat)\n",
    "    result['features'] = featurelist\n",
    "    \n",
    "    with open(dir+'/Json/'+name+'.json', 'w') as f:\n",
    "        f.write(json.dumps(result))"
   ]
  },
  {
   "cell_type": "code",
   "execution_count": null,
   "metadata": {
    "collapsed": true
   },
   "outputs": [],
   "source": []
  },
  {
   "cell_type": "code",
   "execution_count": 12,
   "metadata": {
    "collapsed": true
   },
   "outputs": [],
   "source": [
    "dist_range = np.arange(0,1.1,0.1)\n",
    "dist_range = [\"%.1f\" % member for member in dist_range]\n",
    "    \n",
    "colorlist = ['rgb(128,0,38)','rgb(189,0,38)','rgb(227,26,28)','rgb(252,78,42)','rgb(253,141,60)','rgb(254,178,76)','rgb(254,217,118)','rgb(255,237,160)','rgb(255,237,160)','rgb(255,255,204)','rgb(255,255,229)','rgb(255,255,255)']\n",
    "color_scale_list = dict(zip(dist_range,colorlist))"
   ]
  },
  {
   "cell_type": "code",
   "execution_count": 13,
   "metadata": {
    "collapsed": true
   },
   "outputs": [],
   "source": [
    "#Create a list of layers based on all zipcode with its color scale\n",
    "layer_list = []\n",
    "for key in test.keys():\n",
    "    layer = dict()\n",
    "    dataname = 'data_' + key + '.json'\n",
    "    layer['color'] = color_scale_list[test[key]]\n",
    "    layer['type'] = 'fill'\n",
    "    layer['source'] = 'https://raw.githubusercontent.com/stella0316/PizzaMap/master/data/Json/' + dataname\n",
    "    layer['sourcetype'] = 'geojson'\n",
    "    \n",
    "    layer_list.append(layer)"
   ]
  },
  {
   "cell_type": "code",
   "execution_count": 33,
   "metadata": {},
   "outputs": [
    {
     "data": {
      "text/html": [
       "<iframe id=\"igraph\" scrolling=\"no\" style=\"border:none;\" seamless=\"seamless\" src=\"https://plot.ly/~StellaSun/6.embed\" height=\"600px\" width=\"100%\"></iframe>"
      ],
      "text/plain": [
       "<plotly.tools.PlotlyDisplay object>"
      ]
     },
     "execution_count": 33,
     "metadata": {},
     "output_type": "execute_result"
    }
   ],
   "source": [
    "import plotly.plotly as py\n",
    "import plotly.graph_objs as graph_objs\n",
    "\n",
    "mapbox_access_token = 'pk.eyJ1Ijoic3N1bjEwIiwiYSI6ImNqYThqNmZjMTAwdDEycXFybTBxNGUxaWcifQ.BL82FAy1_HdKC5DCNrieCg'\n",
    "\n",
    "MapData = graph_objs.Data([\n",
    "    graph_objs.Scattermapbox(\n",
    "        lat=['45.5017'],\n",
    "        lon=['-73.5673'],\n",
    "        mode='markers',\n",
    "        marker = dict(opacity = 0.7,\n",
    "                size = 2,\n",
    "                colorscale = color_scale_list,\n",
    "                colorbar = dict(\n",
    "                    title = \"Density in Distance\")\n",
    "        )\n",
    "               )\n",
    "    \n",
    "    \n",
    "])\n",
    "\n",
    "\n",
    "layout = graph_objs.Layout(\n",
    "    height=600,\n",
    "    autosize=True,\n",
    "    hovermode='closest',\n",
    "    showlegend=False,\n",
    "    title='<b>New York Pizza Store HeatMap</b>',\n",
    "    mapbox=dict(\n",
    "        layers=[i for i in layer_list],\n",
    "        accesstoken=mapbox_access_token,\n",
    "        bearing=0,\n",
    "        center=dict(\n",
    "            lat=40.75,\n",
    "            lon=-73.9\n",
    "        ),\n",
    "        pitch=0,\n",
    "        zoom=10,\n",
    "        style='streets'\n",
    "    ),\n",
    ")\n",
    "\n",
    "fig = dict(data=MapData, layout=layout)\n",
    "py.iplot(fig, filename='New York Pizza Store HeatMap')"
   ]
  },
  {
   "cell_type": "code",
   "execution_count": 27,
   "metadata": {
    "collapsed": true
   },
   "outputs": [],
   "source": []
  },
  {
   "cell_type": "code",
   "execution_count": 29,
   "metadata": {},
   "outputs": [
    {
     "data": {
      "text/plain": [
       "-73.9885"
      ]
     },
     "execution_count": 29,
     "metadata": {},
     "output_type": "execute_result"
    }
   ],
   "source": []
  },
  {
   "cell_type": "code",
   "execution_count": null,
   "metadata": {
    "collapsed": true
   },
   "outputs": [],
   "source": []
  }
 ],
 "metadata": {
  "kernelspec": {
   "display_name": "Python 3",
   "language": "python",
   "name": "python3"
  },
  "language_info": {
   "codemirror_mode": {
    "name": "ipython",
    "version": 3
   },
   "file_extension": ".py",
   "mimetype": "text/x-python",
   "name": "python",
   "nbconvert_exporter": "python",
   "pygments_lexer": "ipython3",
   "version": "3.6.0"
  }
 },
 "nbformat": 4,
 "nbformat_minor": 2
}
