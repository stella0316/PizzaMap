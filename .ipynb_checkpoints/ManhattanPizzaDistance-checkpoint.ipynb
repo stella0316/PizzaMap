{
 "cells": [
  {
   "cell_type": "code",
   "execution_count": null,
   "metadata": {},
   "outputs": [],
   "source": [
    "import numpy as np \n",
    "import pandas as pd\n",
    "import matplotlib.pyplot as plt\n",
    "\n",
    "## reading ManhattanLotLocs data into lot_df DataFrame\n",
    "\n",
    "lot_df = pd.DataFrame(pd.read_csv('ManhattanLotLocs.txt'))"
   ]
  },
  {
   "cell_type": "code",
   "execution_count": null,
   "metadata": {},
   "outputs": [],
   "source": [
    "lot_df.head(10)"
   ]
  },
  {
   "cell_type": "code",
   "execution_count": null,
   "metadata": {},
   "outputs": [],
   "source": [
    "len(lot_df['lot_id'].unique())"
   ]
  },
  {
   "cell_type": "code",
   "execution_count": null,
   "metadata": {},
   "outputs": [],
   "source": [
    "lot_df.shape ## all lot_id values are unique"
   ]
  },
  {
   "cell_type": "code",
   "execution_count": null,
   "metadata": {},
   "outputs": [],
   "source": [
    "lotdf_colindex = lot_df.columns.values\n",
    "lotdf_colindex"
   ]
  },
  {
   "cell_type": "code",
   "execution_count": null,
   "metadata": {},
   "outputs": [],
   "source": [
    "len(lot_df['Lot'].unique()) ## lot id's are composed of block_lot "
   ]
  },
  {
   "cell_type": "code",
   "execution_count": null,
   "metadata": {},
   "outputs": [],
   "source": [
    "lot_id_df = lot_df.set_index(lot_df['lot_id'])\n",
    "# lot_id_df.head(10)\n",
    "lot_id_df = lot_id_df.drop('lot_id', 1)\n",
    "lot_id_df.head()\n",
    "\n",
    "## lot_id_df is lot_df indexed by lot_ids "
   ]
  },
  {
   "cell_type": "markdown",
   "metadata": {},
   "source": [
    "### Calculate Manhattan Distance for each lot to the each pizza shop in miles"
   ]
  },
  {
   "cell_type": "code",
   "execution_count": null,
   "metadata": {},
   "outputs": [],
   "source": [
    "## Load Pizza Map location data (from Ksenia)\n",
    "\n",
    "pizza_df = pd.DataFrame(pd.read_csv('pizza_locations_google.csv'))\n",
    "# pizza_df.head(10)\n",
    "\n",
    "pizza_df = pizza_df.set_index('Unnamed: 0', drop=True)\n",
    "\n",
    "pizza_df_colindex = pizza_df.columns.values\n",
    "# pizza_df_colindex\n",
    "\n",
    "pizza_df.head()"
   ]
  },
  {
   "cell_type": "code",
   "execution_count": null,
   "metadata": {
    "collapsed": true
   },
   "outputs": [],
   "source": [
    "## Manhattan Distance Function\n",
    "\n",
    "## nearest listing in terms of 1) Specified Distance (user input function) \n",
    "                            ## 2) Specified Number of Pizza Shops\n",
    "                            ## 3) Specified Neighborhood"
   ]
  },
  {
   "cell_type": "code",
   "execution_count": null,
   "metadata": {
    "collapsed": true
   },
   "outputs": [],
   "source": [
    "## DataFrame: rows = lots, columns = pizza shops"
   ]
  },
  {
   "cell_type": "code",
   "execution_count": null,
   "metadata": {},
   "outputs": [],
   "source": [
    "## Creating a DataFrame to store lattitude-longitude data for Manhattan Lots\n",
    "lot_indexvector = [str(k) for k in lot_id_df.index.values]\n",
    "lot_lat_vector = lot_id_df['latitude']\n",
    "lot_lng_vector = lot_id_df['longitude']\n",
    "\n",
    "lot_latlng = pd.DataFrame({'latitude': lot_lat_vector, 'longitude':lot_lng_vector}, \n",
    "                          index=lot_indexvector)\n",
    "\n",
    "lot_latlng.head()"
   ]
  },
  {
   "cell_type": "code",
   "execution_count": null,
   "metadata": {},
   "outputs": [],
   "source": [
    "## Creating a DataFrame to store lattitude-longitude data for Manhattan Pizza Shops\n",
    "pizza_indexvector = pizza_df.index.values\n",
    "pizza_lat_vector = pizza_df['lat']\n",
    "pizza_lng_vector = pizza_df['lng']\n",
    "\n",
    "pizza_latlng = pd.DataFrame({'latitude': pizza_lat_vector, 'longitude': pizza_lng_vector},\n",
    "                           index=pizza_indexvector)\n",
    "\n",
    "pizza_latlng['pizza_id'] = pizza_df['place_id']\n",
    "pizza_latlng['pizza_id'] = [str(k) for k in pizza_latlng['pizza_id']]\n",
    "pizza_latlng = pizza_latlng.set_index('pizza_id', drop=True)\n",
    "pizza_latlng.head()"
   ]
  },
  {
   "cell_type": "markdown",
   "metadata": {},
   "source": [
    "### Manhattan Distance with Haversine Formula\n",
    "\n",
    "Haversine Formula is used to calculate the distance of two points on a sphere given their latitudes and longitudes\n",
    "\n",
    "a = sin²(Δφ/2) + cos φ1 ⋅ cos φ2 ⋅ sin²(Δλ/2) \n",
    "\n",
    "c = 2 ⋅ asin( √a )\n",
    "\n",
    "d = R ⋅ c\n",
    "\n",
    "where, R = 6371 km (3959 miles) (Earth's mean radius), φ is latitude, λ is longitude. \n",
    "\n"
   ]
  },
  {
   "cell_type": "code",
   "execution_count": null,
   "metadata": {},
   "outputs": [],
   "source": [
    "from math import sin\n",
    "from math import cos\n",
    "from math import atan2\n",
    "from math import sqrt\n",
    "from math import asin\n",
    "from math import radians\n",
    "\n",
    "\n",
    "def ManhattanDist(loc_lot, loc_pizza):\n",
    "    '''Takes as input a lot_id and a pizza_id to calculate the distance between the\n",
    "    two points with the Haversine formula. Returns a dataframe wtih rows = lot_ids, \n",
    "    columns = pizza_ids, data = distance in kms'''\n",
    "    \n",
    "    lot_lat = lot_latlng.loc[loc_lot]['latitude']\n",
    "    lot_lng = lot_latlng.loc[loc_lot]['longitude']\n",
    "    pizza_lat = pizza_latlng.loc[loc_pizza]['latitude']\n",
    "    pizza_lng = pizza_latlng.loc[loc_pizza]['longitude']\n",
    "    \n",
    "    r = 3959\n",
    "    \n",
    "### If Manhattan was aligned with N-S \n",
    "\n",
    "#     longitude_a = sin(0)**2 + cos(radians(lot_lat))*cos(radians(lot_lat))*sin(radians((lot_lng-pizza_lng)/2))**2\n",
    "    \n",
    "#     latitude_a = (sin(radians(abs((lot_lat-pizza_lat)/2))))**2 + cos(radians(lot_lat))*cos(pizza_lat)*(sin(0))**2\n",
    "    \n",
    "#     longitude_c = c = 2*asin(sqrt(longitude_a))\n",
    "                                                                              \n",
    "#     latitude_c = 2*asin(sqrt(latitude_a))\n",
    "                                                                              \n",
    "#     d_latitude = r*latitude_c\n",
    "                                                                              \n",
    "#     d_longitude = r*longitude_c\n",
    "                                                                              \n",
    "#     d = abs(d_latitude) + abs(d_longitude)\n",
    "                                                                              \n",
    "#     return d \n",
    "\n",
    "    a = sin((radians(abs(lot_lat-pizza_lat)))/2)**2 + cos(lot_lat)*cos(pizza_lat)*sin((radians(abs(lot_lng - pizza_lng)/2)))**2\n",
    "\n",
    "    c = 2*asin(sqrt(a))         \n",
    "    \n",
    "    d = r*c\n",
    "    \n",
    "    return d\n",
    "                                                                                       \n",
    "print (ManhattanDist('2_2', 'ChIJy6G-JHj2wokRiLxKme5PyBQ'))\n",
    "\n",
    "print (ManhattanDist('3_10', 'ChIJy6G-JHj2wokRiLxKme5PyBQ'))\n",
    "\n",
    "print (ManhattanDist('7_29', 'ChIJ57jXPxP2wokRRrcwDoksk18'))\n",
    "\n",
    "print (ManhattanDist('3_1', 'ChIJbWfIg3j2wokRJ22QKbeFRu8'))"
   ]
  },
  {
   "cell_type": "code",
   "execution_count": null,
   "metadata": {
    "collapsed": true
   },
   "outputs": [],
   "source": [
    "def list_distance(pizza):\n",
    "    Pizza_Dict = {}\n",
    "    for lot in lot_latlng.index:\n",
    "        Pizza_Dict[str(lot)] = ManhattanDist(lot, pizza)\n",
    "    return Pizza_Dict \n",
    "\n",
    "distance_df = pd.DataFrame()\n",
    "pizza_dict_to_df = [list_distance(pizza) for pizza in pizza_df['place_id']]\n",
    "# distance_df.index = pizza_dict_to_df[0].keys()\n",
    "distance_df = distance_df.append(pizza_dict_to_df)\n",
    "distance_df.head()\n",
    "\n",
    "# distance_df.to_csv('lot_to_pizza.csv')"
   ]
  },
  {
   "cell_type": "code",
   "execution_count": null,
   "metadata": {
    "collapsed": true
   },
   "outputs": [],
   "source": [
    "distance_df['place_id'] = pizza_df['place_id']\n",
    "distance_df = distance_df.set_index('place_id', drop=True, inplace=True)"
   ]
  },
  {
   "cell_type": "code",
   "execution_count": null,
   "metadata": {
    "collapsed": true
   },
   "outputs": [],
   "source": [
    "distance_df.to_csv('lot_to_pizza.csv')"
   ]
  },
  {
   "cell_type": "code",
   "execution_count": null,
   "metadata": {
    "collapsed": true
   },
   "outputs": [],
   "source": []
  }
 ],
 "metadata": {
  "kernelspec": {
   "display_name": "Python 3",
   "language": "python",
   "name": "python3"
  },
  "language_info": {
   "codemirror_mode": {
    "name": "ipython",
    "version": 3
   },
   "file_extension": ".py",
   "mimetype": "text/x-python",
   "name": "python",
   "nbconvert_exporter": "python",
   "pygments_lexer": "ipython3",
   "version": "3.6.1"
  }
 },
 "nbformat": 4,
 "nbformat_minor": 2
}
